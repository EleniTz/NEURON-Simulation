{
 "cells": [
  {
   "cell_type": "markdown",
   "metadata": {},
   "source": [
    "# Neocortical Microcircuit \n",
    "\n",
    "[Portal](https://bbp.epfl.ch/nmc-portal/welcome)\n",
    "\n",
    "Digital Reconstruction of Neocortical Microcircuit"
   ]
  },
  {
   "cell_type": "code",
   "execution_count": null,
   "metadata": {},
   "outputs": [],
   "source": [
    "import os\n",
    "os.unsetenv('PYTHONHOME') \n",
    "!pip install -q bluepyopt==1.5.12 matplotlib==2.0.2 numpy==1.13.0 neurom==1.4.2 2>&1 | grep -v 'SNIMissingWarning\\|InsecurePlatformWarning'\n",
    "\n",
    "%matplotlib inline\n",
    "import matplotlib.pyplot as pyplot\n",
    "\n",
    "import os\n",
    "import zipfile       # Extract zip files\n",
    "import urllib        # Download files from the web\n",
    "import neurom        # Analyse / view morphologies\n",
    "import neurom.viewer"
   ]
  },
  {
   "cell_type": "markdown",
   "metadata": {},
   "source": [
    "Select a model from the [portal](https://bbp.epfl.ch/nmc-portal/microcircuit#/metype/L5_TTPC2_cADpyr/details) and download"
   ]
  },
  {
   "cell_type": "code",
   "execution_count": null,
   "metadata": {},
   "outputs": [],
   "source": [
    "urllib.urlretrieve('https://bbp.epfl.ch/nmc-portal/documents/10184/1921755/L5_TTPC2_cADpyr232_1.zip/a058fc9c-6c67-417b-a65b-20742902ccbb','L5_TTPC2_cADpyr232_1.zip');\n",
    "\n",
    "import os, zipfile\n",
    "with zipfile.ZipFile('L5_TTPC2_cADpyr232_1.zip', 'r') as zip_file:\n",
    "    zip_file.extractall('.')\n",
    "    \n",
    "os.chdir('L5_TTPC2_cADpyr232_1')\n",
    "\n",
    "!nrnivmodl mechanisms"
   ]
  },
  {
   "cell_type": "markdown",
   "metadata": {},
   "source": [
    "## Morphology Visualisation"
   ]
  },
  {
   "cell_type": "code",
   "execution_count": null,
   "metadata": {},
   "outputs": [],
   "source": [
    "neurom.viewer.draw(neurom.load_neuron('morphology/dend-C060114A7_axon-C060116A3_-_Clone_2.asc'));"
   ]
  },
  {
   "attachments": {},
   "cell_type": "markdown",
   "metadata": {},
   "source": [
    "![neuron sim](https://i.gyazo.com/bfa28740325207b6e15a532e21605937.png)"
   ]
  },
  {
   "cell_type": "code",
   "execution_count": null,
   "metadata": {},
   "outputs": [],
   "source": [
    "import neuron as nrn \n",
    "nrn.h.load_file(\"./init.hoc\");\n",
    "\n",
    "nrn.h.create_cell(1);\n",
    "\n",
    "cell = nrn.h.cell\n",
    "soma = cell.soma[0]"
   ]
  },
  {
   "cell_type": "markdown",
   "metadata": {},
   "source": [
    "## Inject a step current"
   ]
  },
  {
   "cell_type": "code",
   "execution_count": null,
   "metadata": {},
   "outputs": [],
   "source": [
    "stimulus = nrn.h.IClamp(0.5, sec=soma)\n",
    "stimulus.dur = 400 \n",
    "stimulus.delay = 100     \n",
    "stimulus.amp = 0.691907"
   ]
  },
  {
   "cell_type": "code",
   "execution_count": null,
   "metadata": {},
   "outputs": [],
   "source": [
    "with open('current_amps.dat') as current_file:\n",
    "    current_content = current_file.read()\n",
    "\n",
    "print 'File content: ', current_content\n",
    "holding_current, step1_current, step2_current, step3_current = [float(x) for x in current_content.split()]\n",
    "\n",
    "print\n",
    "print 'Holding current: %f nA' % holding_current\n",
    "print 'Step 1: %f nA' % step1_current\n",
    "print 'Step 2: %f nA' % step2_current\n",
    "print 'Step 3: %f nA' % step3_current "
   ]
  },
  {
   "cell_type": "code",
   "execution_count": null,
   "metadata": {},
   "outputs": [],
   "source": [
    "#recording of activity\n",
    "\n",
    "nrn.h.create_recording();\n",
    "\n",
    "nrn.h.tstop = 600 # ms\n",
    "nrn.h.dt = 0.05 # \n",
    "nrn.h.run();\n",
    "\n",
    "nrn.h.save_recording();"
   ]
  },
  {
   "cell_type": "code",
   "execution_count": null,
   "metadata": {},
   "outputs": [],
   "source": [
    "time = nrn.h.time\n",
    "voltage = nrn.h.voltage\n",
    "\n",
    "def plot_tv(time_array, voltage_array, show=True, label=None, constants=[]):\n",
    "    import matplotlib.pyplot as plt\n",
    "    import numpy\n",
    "    plt.plot(time_array, voltage_array, label=label)\n",
    "    for constant in constants:\n",
    "        plt.plot(time_array, constant*numpy.ones(len(time_array)))\n",
    "    plt.xlabel('Time (ms)')\n",
    "    plt.ylabel('Membrane voltage (mV)')\n",
    "    if show:\n",
    "        plt.show()\n",
    "    \n",
    "\n",
    "plot_tv(time, voltage);"
   ]
  },
  {
   "attachments": {},
   "cell_type": "markdown",
   "metadata": {},
   "source": [
    "![graph](https://i.gyazo.com/1b6f6764694bb6fddf66b1adee520d55.png)"
   ]
  },
  {
   "cell_type": "markdown",
   "metadata": {},
   "source": [
    "## Synapse Activation"
   ]
  },
  {
   "cell_type": "code",
   "execution_count": null,
   "metadata": {},
   "outputs": [],
   "source": [
    "print \"Number of synapses: \", len(list(cell.synapses.synapse_list))\n",
    "\n",
    "print \"Number of pre-synaptic cells: \", len(list(cell.synapses.netstim_list))\n",
    "\n",
    "with open('synapses/mtype_map.tsv') as mtype_map_file:\n",
    "    mtype_map_content = mtype_map_file.read()\n",
    "print 'integer\\tm-type'\n",
    "print '---------------'\n",
    "print mtype_map_content"
   ]
  },
  {
   "cell_type": "code",
   "execution_count": null,
   "metadata": {},
   "outputs": [],
   "source": [
    "mtype_map = {}\n",
    "for line in mtype_map_content.split('\\n')[:-1]:\n",
    "    n, mtype = line.split()\n",
    "    mtype_map[mtype] = int(n)\n",
    "    \n",
    "print 'Integer for L23_PC: %d' % mtype_map['L23_PC']"
   ]
  },
  {
   "cell_type": "code",
   "execution_count": null,
   "metadata": {},
   "outputs": [],
   "source": [
    "# enable all the synapses that are projected onto this cell from L23_PC (layer 2/3 pyramidal cell)\n",
    "\n",
    "def init_synapses(enabled_mtypes=[]):\n",
    "    enabled_mtype_ints = [mtype_map[mtype] for mtype in enabled_mtypes]\n",
    "    \n",
    "    for i in range(0, int(cell.synapses.n_of_mtypes)): # Loop over all the m-type\n",
    "        if i in enabled_mtype_ints: # Enable synapses\n",
    "            cell.synapses.were_active_pre_mtypes.x[i]= 0\n",
    "            cell.synapses.active_pre_mtypes.x[i] = 1        \n",
    "        else: # Disable synapses\n",
    "            cell.synapses.were_active_pre_mtypes.x[i]= 1\n",
    "            cell.synapses.active_pre_mtypes.x[i] = 0\n",
    "            \n",
    "    cell.synapses.update_synapses(nrn.h.synapse_plot); # Update the synapses\n",
    "\n",
    "init_synapses(enabled_mtypes=['L23_PC'])"
   ]
  },
  {
   "cell_type": "code",
   "execution_count": null,
   "metadata": {},
   "outputs": [],
   "source": [
    "# Remove any previously defined stimulus\n",
    "if 'stimulus' in locals():\n",
    "    del stimulus\n",
    "\n",
    "def run_plot():\n",
    "    nrn.h.tstop = 600\n",
    "    nrn.h.dt = 0.05\n",
    "\n",
    "    nrn.h.run()\n",
    "    nrn.h.save_recording()\n",
    "\n",
    "    plot_tv(time, voltage)\n",
    "    \n",
    "run_plot()"
   ]
  },
  {
   "attachments": {
    "image.png": {
     "image/png": "[encoded data removed]"
    }
   },
   "cell_type": "markdown",
   "metadata": {},
   "source": [
    "![image.png](attachment:image.png)"
   ]
  },
  {
   "cell_type": "code",
   "execution_count": null,
   "metadata": {},
   "outputs": [],
   "source": [
    "#Layer 5 Thick Tufted Pyramidal cell connections activation\n",
    "\n",
    "init_synapses(enabled_mtypes=['L5_TTPC2'])\n",
    "run_plot()"
   ]
  },
  {
   "attachments": {},
   "cell_type": "markdown",
   "metadata": {},
   "source": [
    "![graph](https://i.gyazo.com/17115e3ee1ecc4d4e522d31119fdfb46.png)"
   ]
  },
  {
   "cell_type": "code",
   "execution_count": null,
   "metadata": {},
   "outputs": [],
   "source": [
    "#activating some inhibitory interneurons together with the excitatory input\n",
    "\n",
    "init_synapses(enabled_mtypes=['L23_PC', 'L23_MC', 'L23_BTC', 'L23_LBC', 'L23_SBC', 'L23_DBC'])\n",
    "run_plot()"
   ]
  },
  {
   "attachments": {},
   "cell_type": "markdown",
   "metadata": {},
   "source": [
    "![graph](https://i.gyazo.com/3c951ab4124ca05a7aa54138d828a732.png)"
   ]
  },
  {
   "cell_type": "code",
   "execution_count": null,
   "metadata": {},
   "outputs": [],
   "source": [
    "#influence parameters e.g. the poisson processes that are creating the spike timings of the presynaptic cells\n",
    "\n",
    "init_synapses(enabled_mtypes=['L5_TTPC2'])\n",
    "\n",
    "pre_mtype_netstims = list(cell.synapses.pre_mtype_netstimlists)\n",
    "\n",
    "for netstims in pre_mtype_netstims:\n",
    "    for netstim in netstims: \n",
    "        netstim.interval = 10000 # ms, Average interval between spikes in the Poisson process   \n",
    "\n",
    "run_plot()"
   ]
  },
  {
   "attachments": {},
   "cell_type": "markdown",
   "metadata": {},
   "source": [
    "![graph](https://i.gyazo.com/6d632ee88bbe16c1737f59f0d6138dcd.png)"
   ]
  },
  {
   "cell_type": "code",
   "execution_count": null,
   "metadata": {},
   "outputs": [],
   "source": []
  }
 ],
 "metadata": {
  "kernelspec": {
   "display_name": "Python 2",
   "language": "python",
   "name": "python2"
  },
  "language_info": {
   "codemirror_mode": {
    "name": "ipython",
    "version": 2
   },
   "file_extension": ".py",
   "mimetype": "text/x-python",
   "name": "python",
   "nbconvert_exporter": "python",
   "pygments_lexer": "ipython2",
   "version": "2.7.15"
  }
 },
 "nbformat": 4,
 "nbformat_minor": 1
}
