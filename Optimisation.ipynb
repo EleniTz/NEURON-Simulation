{
 "cells": [
  {
   "cell_type": "markdown",
   "metadata": {},
   "source": [
    "# Ball and Stick Neuron Model Optimisation\n",
    "\n",
    "- Create a cell model in **BluePyOpt**\n",
    "- Create a cell **evaluator**\n",
    "- Run a parameter optimisation"
   ]
  },
  {
   "cell_type": "code",
   "execution_count": 1,
   "metadata": {},
   "outputs": [
    {
     "name": "stdout",
     "output_type": "stream",
     "text": [
      "WARNING: You are using pip version 19.2.2, however version 19.2.3 is available.\n",
      "You should consider upgrading via the 'pip install --upgrade pip' command.\n"
     ]
    },
    {
     "name": "stderr",
     "output_type": "stream",
     "text": [
      "/home/nbuser/anaconda3_420/lib/python3.5/site-packages/matplotlib/font_manager.py:280: UserWarning: Matplotlib is building the font cache using fc-list. This may take a moment.\n",
      "  'Matplotlib is building the font cache using fc-list. '\n"
     ]
    }
   ],
   "source": [
    "import os\n",
    "os.unsetenv('PYTHONHOME') # Solve an issue with NEURON simulator import\n",
    "!pip install -q bluepyopt==1.5.12 matplotlib==2.0.2 numpy==1.13.0 2>&1 | grep -v 'SNIMissingWarning\\|InsecurePlatformWarning'\n",
    "\n",
    "%matplotlib inline\n",
    "import matplotlib.pyplot as plt\n",
    "%load_ext autoreload\n",
    "%autoreload"
   ]
  },
  {
   "cell_type": "code",
   "execution_count": 2,
   "metadata": {},
   "outputs": [],
   "source": [
    "#biophysically detailed electrical cell models\n",
    "\n",
    "import bluepyopt as bpop\n",
    "import bluepyopt.ephys as ephys"
   ]
  },
  {
   "cell_type": "markdown",
   "metadata": {},
   "source": [
    "### Cell \n",
    "\n",
    "- [Morphology](http://www.neuronland.org/NLMorphologyConverter/MorphologyFormats/SWC/Spec.html)\n",
    "- Equations of the ion channels on the membrane\n",
    "- Parameters of the model"
   ]
  },
  {
   "cell_type": "code",
   "execution_count": 3,
   "metadata": {},
   "outputs": [],
   "source": [
    "morph_swc_string = \"\"\"\n",
    "1 1 0.0 0.0 -10.0 10.0 -1                                                        \n",
    "2 1 0.0 0.0 0.0 10.0 1                                                           \n",
    "3 1 0.0 0.0 10.0 10.0 2                                                          \n",
    "4 3 0.0 10.0 0.0 2.0 2                                                           \n",
    "5 3 0.0 110.0 0.0 2.0 4\n",
    "\"\"\"\n",
    "with open('ballandstick.swc', 'w') as swc_file:\n",
    "    swc_file.write(morph_swc_string)"
   ]
  },
  {
   "cell_type": "markdown",
   "metadata": {},
   "source": [
    "In order to plot the above morphology we use the **Neuronal Morphology Analysis Tool** [NeuroM](https://github.com/BlueBrain/NeuroM)"
   ]
  },
  {
   "cell_type": "code",
   "execution_count": null,
   "metadata": {},
   "outputs": [],
   "source": [
    "import neurom\n",
    "import neurom.viewer\n",
    "fig, ax = neurom.viewer.draw(neurom.load_neuron('ballandstick.swc'))"
   ]
  },
  {
   "attachments": {},
   "cell_type": "markdown",
   "metadata": {},
   "source": [
    "![ball and stick model](https://i.gyazo.com/44893da05ce84afa463993a88bef5b78.png)"
   ]
  },
  {
   "cell_type": "code",
   "execution_count": null,
   "metadata": {},
   "outputs": [],
   "source": [
    "#NrnFileMorphology object in order to use this morphology in BluPyOpt\n",
    "\n",
    "morph = ephys.morphologies.NrnFileMorphology('ballandstick.swc')"
   ]
  },
  {
   "cell_type": "code",
   "execution_count": null,
   "metadata": {},
   "outputs": [],
   "source": [
    "somatic_loc = ephys.locations.NrnSeclistLocation('somatic', seclist_name='somatic')\n",
    "dend_loc = ephys.locations.NrnSeclistLocation('basal', seclist_name='basal')"
   ]
  },
  {
   "cell_type": "markdown",
   "metadata": {},
   "source": [
    "Specify the ion channels available on the membrane of the above morphology\n",
    "Hodgkin-Huxley Na and K\n",
    "\n",
    "Parameters\n",
    "- Frozen parameters = exact values\n",
    "- Unfrozen parameters"
   ]
  },
  {
   "cell_type": "code",
   "execution_count": null,
   "metadata": {},
   "outputs": [],
   "source": [
    "hh_mech = ephys.mechanisms.NrnMODMechanism(\n",
    "        name='hh',\n",
    "        suffix='hh',\n",
    "        locations=[somatic_loc, dend_loc])"
   ]
  },
  {
   "cell_type": "code",
   "execution_count": null,
   "metadata": {},
   "outputs": [],
   "source": [
    "cm = ephys.parameters.NrnSectionParameter(\n",
    "        name='cm',\n",
    "        param_name='cm',\n",
    "        value=1.0, # in microfarad/cm2\n",
    "        locations=[somatic_loc, dend_loc],\n",
    "        frozen=True)\n",
    "\n",
    "# Fix leak conductance dendrite\n",
    "gl_dend = ephys.parameters.NrnSectionParameter(\n",
    "        name='gl_dend',\n",
    "        param_name='gl_hh',\n",
    "        value=1e-5,\n",
    "        locations=[dend_loc],\n",
    "        frozen=True)\n",
    "\n",
    "# Disable Na and K\n",
    "gnabar_dend = ephys.parameters.NrnSectionParameter(                                    \n",
    "        name='gnabar_hh_dend',\n",
    "        param_name='gnabar_hh',\n",
    "        locations=[dend_loc],\n",
    "        value=0,\n",
    "        frozen=True)     \n",
    "gkbar_dend = ephys.parameters.NrnSectionParameter(\n",
    "        name='gkbar_hh_dend',\n",
    "        param_name='gkbar_hh',\n",
    "        value=0,\n",
    "        locations=[dend_loc],\n",
    "        frozen=True)"
   ]
  },
  {
   "cell_type": "code",
   "execution_count": null,
   "metadata": {},
   "outputs": [],
   "source": [
    "# set the bounds for the maximal conductances of the sodium and potassium channels in the soma\n",
    "\n",
    "gnabar_soma = ephys.parameters.NrnSectionParameter(                                    \n",
    "        name='gnabar_soma',\n",
    "        param_name='gnabar_hh',\n",
    "        locations=[somatic_loc],\n",
    "        bounds=[0.0, 1.0],\n",
    "        frozen=False)     \n",
    "gkbar_soma = ephys.parameters.NrnSectionParameter(\n",
    "        name='gkbar_soma',\n",
    "        param_name='gkbar_hh',\n",
    "        bounds=[0.0, 1.0],\n",
    "        locations=[somatic_loc],\n",
    "        frozen=False)"
   ]
  },
  {
   "cell_type": "code",
   "execution_count": null,
   "metadata": {},
   "outputs": [],
   "source": [
    "#CellModel\n",
    "\n",
    "ballandstick_cell = ephys.models.CellModel(\n",
    "        name='simple_cell',\n",
    "        morph=morph,\n",
    "        mechs=[hh_mech],\n",
    "        params=[cm, gnabar_dend, gkbar_dend, gl_dend, gnabar_soma, gkbar_soma])  \n",
    "\n",
    "print(ballandstick_cell)"
   ]
  },
  {
   "cell_type": "markdown",
   "metadata": {},
   "source": [
    "### Cell Evaluator\n",
    "\n",
    "Translation of the values of the parameters into fitness scores\n",
    "\n",
    "#### Create a *Protocol*\n",
    "\n",
    "- set of stimuli\n",
    "- set of responses"
   ]
  },
  {
   "cell_type": "code",
   "execution_count": null,
   "metadata": {},
   "outputs": [],
   "source": [
    "soma_loc = ephys.locations.NrnSeclistCompLocation(\n",
    "        name='soma',\n",
    "        seclist_name='somatic',\n",
    "        sec_index=0,\n",
    "        comp_x=0.5)"
   ]
  },
  {
   "cell_type": "code",
   "execution_count": null,
   "metadata": {},
   "outputs": [],
   "source": [
    "#recording and stimulus at the soma \n",
    "\n",
    "sweep_protocols = []\n",
    "for protocol_name, amplitude in [('step1', 0.1), ('step2', 0.5)]:\n",
    "    stim = ephys.stimuli.NrnSquarePulse(\n",
    "                step_amplitude=amplitude,\n",
    "                step_delay=100,\n",
    "                step_duration=50,\n",
    "                location=soma_loc,\n",
    "                total_duration=200)\n",
    "    rec = ephys.recordings.CompRecording(\n",
    "            name='%s.soma.v' % protocol_name,\n",
    "            location=soma_loc,\n",
    "            variable='v')\n",
    "    protocol = ephys.protocols.SweepProtocol(protocol_name, [stim], [rec])\n",
    "    sweep_protocols.append(protocol)\n",
    "twostep_protocol = ephys.protocols.SequenceProtocol('twostep', protocols=sweep_protocols)"
   ]
  },
  {
   "cell_type": "code",
   "execution_count": null,
   "metadata": {},
   "outputs": [],
   "source": [
    "#run the protocol\n",
    "\n",
    "nrn = ephys.simulators.NrnSimulator()\n",
    "\n",
    "default_params = {'gnabar_soma': 0.25, 'gkbar_soma': 0.1}\n",
    "\n",
    "responses = twostep_protocol.run(cell_model=ballandstick_cell, param_values=default_params, sim=nrn)"
   ]
  },
  {
   "cell_type": "code",
   "execution_count": null,
   "metadata": {},
   "outputs": [],
   "source": [
    "#plot the responses\n",
    "\n",
    "def plot_responses(responses):\n",
    "    plt.subplot(2,1,1)\n",
    "    plt.plot(responses['step1.soma.v']['time'], responses['step1.soma.v']['voltage'], label='step1')\n",
    "    plt.legend()\n",
    "    plt.subplot(2,1,2)\n",
    "    plt.plot(responses['step2.soma.v']['time'], responses['step2.soma.v']['voltage'], label='step2')\n",
    "    plt.legend()\n",
    "    plt.tight_layout()\n",
    "\n",
    "plot_responses(responses)"
   ]
  },
  {
   "attachments": {},
   "cell_type": "markdown",
   "metadata": {},
   "source": [
    "![graph](https://i.gyazo.com/8afbdcd9eb0d73e8a44d3d86b8fd73f1.png)"
   ]
  },
  {
   "cell_type": "code",
   "execution_count": null,
   "metadata": {},
   "outputs": [],
   "source": [
    "other_params = {'gnabar_soma': 0.1, 'gkbar_soma': 0.1}\n",
    "plot_responses(twostep_protocol.run(cell_model=ballandstick_cell, param_values=other_params, sim=nrn))"
   ]
  },
  {
   "attachments": {},
   "cell_type": "markdown",
   "metadata": {},
   "source": [
    "![graph](https://i.gyazo.com/ac8c392a10a7b0a1ff9914e536e97778.png)"
   ]
  },
  {
   "cell_type": "markdown",
   "metadata": {},
   "source": [
    "# eFEL (e Feature Extraction Library)\n",
    "\n",
    "- calculate the number of spikes\n",
    "- calculate the height of the spikes"
   ]
  },
  {
   "cell_type": "code",
   "execution_count": null,
   "metadata": {},
   "outputs": [],
   "source": [
    "responses = twostep_protocol.run(cell_model=ballandstick_cell, param_values=default_params, sim=nrn)\n",
    "# show where these names come from\n",
    "step2_time = responses['step2.soma.v']['time']\n",
    "step2_voltage = responses['step2.soma.v']['voltage']\n",
    "\n",
    "# Define this dictionary\n",
    "trace = {'T': step2_time, 'V': step2_voltage, 'stim_start': [100], 'stim_end': [150]}\n",
    "\n",
    "import efel\n",
    "# Explain AP_width (from where to where is AP_amplitude...\n",
    "feature_values = efel.getFeatureValues([trace], ['Spikecount', 'AP_width', 'AP_amplitude'])[0]\n",
    "\n",
    "plot_responses(responses)\n",
    "print 'Number of spikes in 2nd trace: %s' % feature_values['Spikecount']\n",
    "print 'Spike widths (ms) in 2nd trace: %s' % feature_values['AP_width']\n",
    "print 'Spike amplitude (mV) in 2nd trace: %s' % feature_values['AP_amplitude']"
   ]
  },
  {
   "cell_type": "code",
   "execution_count": null,
   "metadata": {},
   "outputs": [],
   "source": [
    "efel_feature_means = {'step1': {'Spikecount': 4}, 'step2': {'Spikecount': 6}}"
   ]
  },
  {
   "cell_type": "code",
   "execution_count": null,
   "metadata": {},
   "outputs": [],
   "source": [
    "objectives = []\n",
    "features = []\n",
    "\n",
    "for protocol in sweep_protocols:\n",
    "    stim_start = protocol.stimuli[0].step_delay\n",
    "    stim_end = stim_start + protocol.stimuli[0].step_duration\n",
    "    for efel_feature_name, mean in efel_feature_means[protocol.name].items():\n",
    "        feature_name = '%s.%s' % (protocol.name, efel_feature_name)\n",
    "        feature = ephys.efeatures.eFELFeature(\n",
    "                    feature_name,\n",
    "                    efel_feature_name=efel_feature_name,\n",
    "                    recording_names={'': '%s.soma.v' % protocol.name},\n",
    "                    stim_start=stim_start,\n",
    "                    stim_end=stim_end,\n",
    "                    exp_mean=mean,\n",
    "                    exp_std=0.05 * abs(mean))\n",
    "        features.append(feature)\n",
    "        objective = ephys.objectives.SingletonObjective(\n",
    "            feature_name,\n",
    "            feature)\n",
    "        objectives.append(objective)"
   ]
  },
  {
   "cell_type": "code",
   "execution_count": null,
   "metadata": {},
   "outputs": [],
   "source": [
    "# cell evaluator\n",
    "\n",
    "score_calc = ephys.objectivescalculators.ObjectivesCalculator(objectives) \n",
    "\n",
    "cell_evaluator = ephys.evaluators.CellEvaluator(\n",
    "        cell_model=ballandstick_cell,\n",
    "        param_names=['gnabar_soma', 'gkbar_soma'],\n",
    "        fitness_protocols={twostep_protocol.name: twostep_protocol},\n",
    "        fitness_calculator=score_calc,\n",
    "        sim=nrn)\n",
    "\n",
    "print 'Scores:', cell_evaluator.evaluate_with_dicts(default_params)\n",
    "\n",
    "#Scores:{'step2.Spikecount': 3.333333333333333, 'step1.Spikecount': 15.0}"
   ]
  },
  {
   "cell_type": "markdown",
   "metadata": {},
   "source": [
    "# Run an Optimisation"
   ]
  },
  {
   "cell_type": "code",
   "execution_count": null,
   "metadata": {},
   "outputs": [],
   "source": [
    "#optimisation algorithm\n",
    "\n",
    "optimisation_algorithm = bpop.deapext.optimisations.IBEADEAPOptimisation(\n",
    "        evaluator=cell_evaluator,\n",
    "        offspring_size = 10)\n",
    "\n",
    "final_pop, hall_of_fame, logs, hist = optimisation_algorithm.run(max_ngen=10)\n",
    "\n",
    "print('Hall of fame: ')\n",
    "for ind in hall_of_fame:\n",
    "    print 'gnabar_soma=%f, gkbar_soma=%f' % tuple(ind)\n",
    "    \n",
    "best_ind = hall_of_fame[0]\n",
    "print('Best individual:  ', best_ind)\n",
    "\n",
    "best_ind_dict = cell_evaluator.param_dict(best_ind)\n",
    "print best_ind_dict"
   ]
  },
  {
   "cell_type": "code",
   "execution_count": null,
   "metadata": {},
   "outputs": [],
   "source": [
    "responses = twostep_protocol.run(cell_model=ballandstick_cell, param_values=best_ind_dict, sim=nrn)\n",
    "print \"Score: \", score_calc.calculate_scores(responses)\n",
    "plot_responses(responses)\n",
    "\n",
    "import numpy\n",
    "gen_numbers = logs.select('gen')\n",
    "min_fitness = logs.select('min')\n",
    "max_fitness = logs.select('max')\n",
    "plt.plot(gen_numbers, min_fitness, label='min fitness')\n",
    "plt.xlabel('generation #')\n",
    "plt.ylabel('score (# std)')\n",
    "plt.legend()\n",
    "plt.xlim(min(gen_numbers) - 1, max(gen_numbers) + 1) \n",
    "plt.ylim(0.9*min(min_fitness), 1.1 * max(min_fitness)) "
   ]
  },
  {
   "attachments": {},
   "cell_type": "markdown",
   "metadata": {},
   "source": [
    "![graph](https://i.gyazo.com/b1659c14f5f4a9b49c98ecc47c0ddf28.png)"
   ]
  },
  {
   "cell_type": "code",
   "execution_count": null,
   "metadata": {},
   "outputs": [],
   "source": []
  }
 ],
 "metadata": {
  "kernelspec": {
   "display_name": "Python 3",
   "language": "python",
   "name": "python3"
  },
  "language_info": {
   "codemirror_mode": {
    "name": "ipython",
    "version": 3
   },
   "file_extension": ".py",
   "mimetype": "text/x-python",
   "name": "python",
   "nbconvert_exporter": "python",
   "pygments_lexer": "ipython3",
   "version": "3.5.4"
  }
 },
 "nbformat": 4,
 "nbformat_minor": 1
}
