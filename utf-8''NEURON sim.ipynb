{
  "cells": [
    {
      "metadata": {},
      "cell_type": "markdown",
      "source": "# Modelling Neurons \n\n- How to construct a **Single Compartmental Electrical Model** \n- How to **Record the Membrane Voltage** and **Inject External Current**\n- **Add Ion Channels** to the cell membrane\n- Model a **Dendrite** \n- Model a **Synapse** "
    },
    {
      "metadata": {},
      "cell_type": "markdown",
      "source": "For more information [NEURON Documentation](https://www.neuron.yale.edu/neuron/docs) \n\nHOCObject called with 'h' property (currently not supported without license) \n\n[Human Brain Project](https://collab.humanbrainproject.eu/#/collab/65449/nav/444850) Collaboration Link to run simulations with NEURON"
    },
    {
      "metadata": {
        "trusted": true
      },
      "cell_type": "code",
      "source": "import os\nos.unsetenv('PYTHONHOME')\n\n!pip install -q bluepyopt==1.5.12 matplotlib==2.0.2 numpy==1.13.0 2>&1 | grep -v 'SNIMissingWarning\\|InsecurePlatformWarning'\n\n%matplotlib inline ",
      "execution_count": null,
      "outputs": []
    },
    {
      "metadata": {
        "trusted": true
      },
      "cell_type": "code",
      "source": "import neuron ",
      "execution_count": null,
      "outputs": []
    },
    {
      "metadata": {
        "trusted": true
      },
      "cell_type": "code",
      "source": "print neuron.h\nneuron.h.load_file(\"stdrun.hoc\");\nneuron.h.stdinit();",
      "execution_count": null,
      "outputs": []
    },
    {
      "metadata": {
        "trusted": true
      },
      "cell_type": "markdown",
      "source": "![Neuron Circuit Model](https://i.gyazo.com/cf2d0b4cf4b4334cd3f10551d2a98bb0.png)",
      "attachments": {}
    },
    {
      "metadata": {},
      "cell_type": "markdown",
      "source": "![Neuron circuit model](https://i.gyazo.com/54072923720a5703810e22c92d05a55e.png)\n*Ball and stick model*\n[Credits](https://mitpress.mit.edu/books/computational-modeling-methods-neuroscientists)",
      "attachments": {}
    },
    {
      "metadata": {},
      "cell_type": "markdown",
      "source": "# Modelling the Soma"
    },
    {
      "metadata": {
        "trusted": true
      },
      "cell_type": "code",
      "source": "#creating the soma of the neuron\n\nsoma = neuron.h.Section(name='soma')\n\nprint \"Soma object:\", soma\nprint \"Soma object name: \", soma.name()\n\nprint \"Number of segments in the soma:\", soma.nseg",
      "execution_count": null,
      "outputs": []
    },
    {
      "metadata": {
        "trusted": true
      },
      "cell_type": "code",
      "source": "#set the length and diameter of the soma\nsoma.L = 40\nsoma.diam = 40\nprint \"Soma length: %f micron\" % soma.L \nprint \"Soma diameter: %f micron\" % soma.diam",
      "execution_count": null,
      "outputs": []
    },
    {
      "metadata": {
        "trusted": true
      },
      "cell_type": "code",
      "source": "#calculate the surface area of the soma according to the cylinder surface area\n#0.5 refers to the segment of the soma\n\nsoma_area_eq = 2 * neuron.h.PI * soma.L * soma.diam / 2\nprint \"Soma area according to cylinder surface area equation: %f micron^2\" % soma_area_eq\n\nsoma_area = neuron.h.area(0.5, sec=soma)\nprint \"Soma area according to NEURON: %f micron^2\" % soma_area\n\nprint \"Both values match: %s\" % (soma_area_eq == soma_area)",
      "execution_count": null,
      "outputs": []
    },
    {
      "metadata": {
        "trusted": true
      },
      "cell_type": "code",
      "source": "soma_sphere_area_eq = 4 * neuron.h.PI * pow(soma.diam / 2, 2)\nprint \"Soma area according to sphere surface area equation: %f micron^2\" % soma_sphere_area_eq",
      "execution_count": null,
      "outputs": []
    },
    {
      "metadata": {},
      "cell_type": "markdown",
      "source": "### Calculate the Soma Capacitance"
    },
    {
      "metadata": {
        "trusted": true
      },
      "cell_type": "code",
      "source": "#retrieve or set the membrane capacitance expressed in units of uf/cm^2\n\nprint \"Specific capacitance: %f uf/cm2\" % soma.cm",
      "execution_count": null,
      "outputs": []
    },
    {
      "metadata": {
        "trusted": true
      },
      "cell_type": "code",
      "source": "#total soma capacitance = multiply by surface area in uf\n\nsoma_tcap = (soma.cm * (soma_area / pow(1e4, 2)))\nprint \"Total soma capacitance: %f uf\" % (soma.cm * (soma_area / pow(1e4, 2)))",
      "execution_count": null,
      "outputs": []
    },
    {
      "metadata": {},
      "cell_type": "markdown",
      "source": "# Run the Simulation\n\n##### Record the membrne voltage in the middle of the soma"
    },
    {
      "metadata": {
        "trusted": true
      },
      "cell_type": "code",
      "source": "print \"Membrane voltage soma: %f mV\" % soma(.5).v \n\n#expressed in mV",
      "execution_count": null,
      "outputs": []
    },
    {
      "metadata": {
        "trusted": true
      },
      "cell_type": "code",
      "source": "#current time (t) expressed in ms\n#the simulation will run until a predefined time 'tstop' variable\n#every time step (dt) a new voltage will be calculated\n\nprint \"Current time: %f ms\" % neuron.h.t",
      "execution_count": null,
      "outputs": []
    },
    {
      "metadata": {
        "trusted": true
      },
      "cell_type": "code",
      "source": "neuron.h.tstop = 100\nprint \"Simulation stop time: %f ms\" % neuron.h.tstop\nprint \"Integration time step: %f ms\" % neuron.h.dt",
      "execution_count": null,
      "outputs": []
    },
    {
      "metadata": {},
      "cell_type": "markdown",
      "source": "###### Record Time and Voltage"
    },
    {
      "metadata": {
        "trusted": true
      },
      "cell_type": "code",
      "source": "#create two NEURON vector objects a) time and b) voltage\n\ntime = neuron.h.Vector()\nvoltage = neuron.h.Vector()\n\ntime.record(neuron.h._ref_t)\nvoltage.record(soma(.5)._ref_v);",
      "execution_count": null,
      "outputs": []
    },
    {
      "metadata": {
        "trusted": true
      },
      "cell_type": "code",
      "source": "neuron.h.run()\n\ndef plot_tv(time_array, voltage_array, show=True, label=None, constants=[]):\n    import matplotlib.pyplot as plt\n    import numpy\n    plt.plot(time_array, voltage_array, label=label)\n    for constant in constants:\n        plt.plot(time_array, constant*numpy.ones(len(time_array)))\n    plt.xlabel('Time (ms)')\n    plt.ylabel('Membrane voltage (mV)')\n    if show:\n        plt.show()\n    \nplot_tv(time, voltage)",
      "execution_count": null,
      "outputs": []
    },
    {
      "metadata": {},
      "cell_type": "markdown",
      "source": "![Voltage-Time](https://i.gyazo.com/3425c4a5d17eef9d52984078f633f5ca.png)\n\n*Voltage has stayed the same overtime*",
      "attachments": {}
    },
    {
      "metadata": {},
      "cell_type": "markdown",
      "source": "![Maths formula](https://i.gyazo.com/73beba8214749b4df40d92a9bcf91dcd.png)",
      "attachments": {}
    },
    {
      "metadata": {},
      "cell_type": "markdown",
      "source": "The changes in voltage are related to the current flowing across the membrane\nI*m* = 0 and voltage remains the same"
    },
    {
      "metadata": {},
      "cell_type": "markdown",
      "source": "![Maths formula](https://i.gyazo.com/be37aa49e9a1f052045ae313c5543273.png)",
      "attachments": {}
    },
    {
      "metadata": {},
      "cell_type": "markdown",
      "source": "# Inject a Current\n\nChange the cell membrane capacitance using current clamp"
    },
    {
      "metadata": {
        "trusted": true
      },
      "cell_type": "code",
      "source": "#amplitude (nA), delay (ms), duration of stimulus (ms)\n\niclamp = neuron.h.IClamp(.5, sec=soma)\niclamp.amp = 0.1 # nA\niclamp.delay = 10 # ms\niclamp.dur = 50 # ms",
      "execution_count": null,
      "outputs": []
    },
    {
      "metadata": {
        "trusted": true
      },
      "cell_type": "code",
      "source": "neuron.h.run()\n\nplot_tv(time, voltage)",
      "execution_count": null,
      "outputs": []
    },
    {
      "metadata": {},
      "cell_type": "markdown",
      "source": "![graph](https://i.gyazo.com/615e976b98c60a558df169e4b6384ee7.png)",
      "attachments": {}
    },
    {
      "metadata": {
        "trusted": true
      },
      "cell_type": "code",
      "source": "V1 = -65              # Voltage before stimulus, mV\nV2 = soma.v           # Voltage after stimulus, mV\ndeltaV = V2 - V1      # Voltage difference, mV\nIm = iclamp.amp       # nA\ndeltaT = iclamp.dur   # ms\nsoma_tcap             # total soma membrane capacitance, uF\n\ndeltaV_eq = Im * deltaT / soma_tcap # in nA * ms / uF == microvolt\ndeltaV_eq /= 1e3                    # Correction factor to get mV\n\nprint 'Observed dV: %f mV' % deltaV\nprint 'Calculated dV: %f mV' % deltaV_eq\nprint 'Simulated dV matches equation dV: %s' % (deltaV - deltaV_eq < 1e-6)",
      "execution_count": null,
      "outputs": []
    },
    {
      "metadata": {},
      "cell_type": "markdown",
      "source": "# Add a Leak Conductance\n\nAdd transmembrane currents using the Hodgkin - Huxley Model"
    },
    {
      "metadata": {
        "trusted": true
      },
      "cell_type": "code",
      "source": "#insert the hh mechanism in the soma\n\nsoma.insert('hh');",
      "execution_count": null,
      "outputs": []
    },
    {
      "metadata": {},
      "cell_type": "markdown",
      "source": "![maths formula](https://i.gyazo.com/83345c43508b6c50c1f9243e2cace674.png)\n\nNa and K currents with voltage-dependent conductances  \nLeakage current with a voltage-independent conductance",
      "attachments": {}
    },
    {
      "metadata": {
        "trusted": true
      },
      "cell_type": "code",
      "source": "#set Na and K conductance to 0\n\nsoma.gkbar_hh = 0.0\nsoma.gnabar_hh = 0.0",
      "execution_count": null,
      "outputs": []
    },
    {
      "metadata": {},
      "cell_type": "markdown",
      "source": "![math formula](https://i.gyazo.com/2b5ae43b3329470726a105750b3fabec.png)",
      "attachments": {}
    },
    {
      "metadata": {
        "trusted": true
      },
      "cell_type": "code",
      "source": "#leak conductance set using 'gl_hh' attribute to set the reversal potential (leak current changes polarity)\n\nsoma.gl_hh = 5e-4 # Leak conductance, S/cm^2",
      "execution_count": null,
      "outputs": []
    },
    {
      "metadata": {
        "trusted": true
      },
      "cell_type": "code",
      "source": "#set current close to the resting membrane potential -65mV\n\nel = soma.el_hh = -65 \nprint \"Reveral of leak current: %f mV\" % el",
      "execution_count": null,
      "outputs": []
    },
    {
      "metadata": {
        "trusted": true
      },
      "cell_type": "code",
      "source": "soma.gkbar_hh = 0.0\nsoma.gnabar_hh = 0.0\n\nneuron.h.tstop = 100\n\nneuron.h.run()\n\nplot_tv(time, voltage)",
      "execution_count": null,
      "outputs": []
    },
    {
      "metadata": {},
      "cell_type": "markdown",
      "source": "![graph](https://i.gyazo.com/007569f001df56156e5be6ab113b0b61.png)",
      "attachments": {}
    },
    {
      "metadata": {},
      "cell_type": "markdown",
      "source": "# Add Active Ion Channels\n\nActive voltage-dependent ion channels of the Hodgkin-Huxley Model\n\n![formula](https://i.gyazo.com/3f83b43f1225bd4b4eec171eb737af21.png)",
      "attachments": {}
    },
    {
      "metadata": {
        "trusted": true
      },
      "cell_type": "code",
      "source": "#parameters expressed in Siemens/cm^2 and represent the density of the ion channels \n\nsoma.gkbar_hh = 0.01 # in S/cm^2\nsoma.gnabar_hh = 0.1\n\nneuron.h.run()\n\nplot_tv(time, voltage)",
      "execution_count": null,
      "outputs": []
    },
    {
      "metadata": {},
      "cell_type": "markdown",
      "source": "![graph](https://i.gyazo.com/34c6e3506628f2d2a68dd859fd62206e.png)",
      "attachments": {}
    },
    {
      "metadata": {
        "trusted": true
      },
      "cell_type": "code",
      "source": "#reversal potentials for Na and K\n\nena = soma.ena \nek = soma.ek\nel = soma.el_hh\n\nprint \"Na reversal: %f\" % ena\nprint \"K reversal: %f\" % ek\nprint \"Leak reversal: %f\" % el\n\nplot_tv(time, voltage, constants=[ena, ek, el])",
      "execution_count": null,
      "outputs": []
    },
    {
      "metadata": {},
      "cell_type": "markdown",
      "source": "![graph](https://i.gyazo.com/a2a75606aa2fabf07a2532c4c95dd246.png)\n\nDuring an action potential the positive E*Na* gets the membrane potential close to 50mV. When it gets inactivated E*K* gets the membrane potential close to -77mV ",
      "attachments": {}
    },
    {
      "metadata": {},
      "cell_type": "markdown",
      "source": "### Parameter Sensitivity \n\nChanging some of the parameters"
    },
    {
      "metadata": {
        "trusted": true
      },
      "cell_type": "code",
      "source": "import matplotlib.pyplot as plt\nimport numpy\n\nfor gnabar in [0.1, 0.15]:\n    soma.gkbar_hh = 0.01\n    soma.gnabar_hh = gnabar\n\n    neuron.h.tstop=30\n\n    neuron.h.run()\n\n    plt.plot(time, max(voltage)*numpy.ones(len(time)), 'r')\n    plot_tv(time, voltage, show=False)\n\nplt.show()",
      "execution_count": null,
      "outputs": []
    },
    {
      "metadata": {},
      "cell_type": "markdown",
      "source": "![graph](https://i.gyazo.com/c3709f01f6b9a3da7a977975f5cf354b.png)",
      "attachments": {}
    },
    {
      "metadata": {
        "trusted": true
      },
      "cell_type": "code",
      "source": "soma.gkbar_hh = 0.01\n\nmax_voltages = []\nimport numpy\ngnabar_range = numpy.arange(.05, 0.2, 0.001)\nfor gnabar in gnabar_range:\n    soma.gnabar_hh = gnabar\n\n    neuron.h.run()\n\n    max_voltages.append(max(voltage))\n\nplt.plot(gnabar_range, max_voltages, 'oC0')\nplt.xlabel('gnabar (S/cm2)')\nplt.ylabel('Maximum AP voltage')\nfor xs in [0.1, 0.15]:\n    plt.axvline(x=xs, color='r')\nplt.show()",
      "execution_count": null,
      "outputs": []
    },
    {
      "metadata": {},
      "cell_type": "markdown",
      "source": "![graph](https://i.gyazo.com/23af851afc70f421bde73d0aed91a0b9.png)\n\nAround 0.08 S/cm^2 there is discontinuity, it represent the point at which the neuron starts firing APs",
      "attachments": {}
    },
    {
      "metadata": {},
      "cell_type": "markdown",
      "source": "# Model a Dendrite\n\nConnected with the soma"
    },
    {
      "metadata": {
        "trusted": true
      },
      "cell_type": "code",
      "source": "dend = neuron.h.Section(name='dend')\n\ndend.connect(soma)\n\ndend.L = 400    # micron\ndend.diam = 2.0 # micron\ndend.nseg = 9   # number of segments in the dendritic section",
      "execution_count": null,
      "outputs": []
    },
    {
      "metadata": {
        "trusted": true
      },
      "cell_type": "code",
      "source": "#passive hh mechanism meaning that K and Na channels are disabled\n\ndend.insert('hh')\ndend.el_hh = -65 # Reversal potential leak current, mV\ndend.gl_hh = 5e-4 # Leak conductance, S/cm^2\n\ndend.gkbar_hh = 0.0\ndend.gnabar_hh = 0.0",
      "execution_count": null,
      "outputs": []
    },
    {
      "metadata": {
        "trusted": true
      },
      "cell_type": "code",
      "source": "for with_dend in [False, True]:\n    neuron.h.tstop = 100\n\n    soma.gkbar_hh = 0.01\n    soma.gnabar_hh = 0.1\n\n    if with_dend:\n        dend.connect(soma)\n    else:\n        neuron.h.disconnect(sec=dend) # disconnect dend for now\n        \n    neuron.h.run()\n\n    plot_tv(time, voltage, show=False, label='with dend' if with_dend else 'without dend')\n\nplt.legend()\nplt.show()",
      "execution_count": null,
      "outputs": []
    },
    {
      "metadata": {},
      "cell_type": "markdown",
      "source": "![graph](https://i.gyazo.com/7fac1d884b0eabcc7c342de918a7592e.png)",
      "attachments": {}
    },
    {
      "metadata": {},
      "cell_type": "markdown",
      "source": "## Voltage attenuation along the dendrite\n\nThe height of the action potential will be attenuated while travelling across the dendrite"
    },
    {
      "metadata": {
        "trusted": true
      },
      "cell_type": "code",
      "source": "#plot the voltage at different locations along the dendrite\n\ndend.Ra = 200\ndend.gl_hh = 5e-4\n\nvoltage_dend = {}\n\n# distances are in percentage of dendritic length\n# 1.0 is at end of dendrite, 0.0 at connection with soma\ndistance_range = numpy.arange(0, 1.1, 0.1)\nfor distance in distance_range:\n    voltage_dend[distance] = neuron.h.Vector()\n    voltage_dend[distance].record(dend(distance)._ref_v);\n \nneuron.h.tstop = 40\nneuron.h.run()\n\nfor distance in distance_range:\n    plot_tv(time, voltage_dend[distance], show=False, label='%.0f%% of dend length' % (distance*100))\n    \nplt.legend()\nplt.show()\n\nmax_voltage_dend = []\nfor distance in distance_range:\n    max_voltage_dend.append(max(voltage_dend[distance]))\n\nplt.plot(distance_range*100, max_voltage_dend, 'o')\nplt.xlabel('percentage of dend length')\nplt.ylabel('Max voltage (mV)')\nplt.show()",
      "execution_count": null,
      "outputs": []
    },
    {
      "metadata": {},
      "cell_type": "markdown",
      "source": "![graphs](https://i.gyazo.com/b81f53068e663bff4076fd7e445a92cb.png)",
      "attachments": {}
    },
    {
      "metadata": {},
      "cell_type": "markdown",
      "source": "# Model a Synapse \n\nIn NEURON a synapse is represented as a point process, located at a specific location \nBuilt-in synapse ExpSyn = synapse with a single exponential decay of its conductance\n\n![graph](https://i.gyazo.com/21ef4c395c5cf358e17ecdaf29cb9146.png)",
      "attachments": {}
    },
    {
      "metadata": {
        "trusted": true
      },
      "cell_type": "code",
      "source": "expsyn = neuron.h.ExpSyn(.5, sec=dend)",
      "execution_count": null,
      "outputs": []
    },
    {
      "metadata": {
        "trusted": true
      },
      "cell_type": "code",
      "source": "#stimulate the synapse by creating a NetStim object (presynaptic cell)\n#Attributes of object a) how many times we want to stimulate the synapse, b) interval, c) when to start\n#Noise determines the stochasticity and 0 noise means regular firing\n\nnetstim = neuron.h.NetStim()\nnetstim.interval = 5\nnetstim.number = 5\nnetstim.start = 20\nnetstim.noise = 0",
      "execution_count": null,
      "outputs": []
    },
    {
      "metadata": {
        "trusted": true
      },
      "cell_type": "code",
      "source": "#the NetCon object acts as a connector between a pre-synaptic and a post-synaptic cell\n\nnetcon = neuron.h.NetCon(netstim, expsyn)\nnetcon.weight[0] = 1.0",
      "execution_count": null,
      "outputs": []
    },
    {
      "metadata": {
        "trusted": true
      },
      "cell_type": "code",
      "source": "iclamp.amp = 0\nneuron.h.tstop = 80\nneuron.h.run()\n\nplot_tv(time, voltage)",
      "execution_count": null,
      "outputs": []
    },
    {
      "metadata": {},
      "cell_type": "markdown",
      "source": "![graph](https://i.gyazo.com/03e9bdc49c3452aaa8192515823bb546.png)\n\nEach event injects a certain current in the cell, and slowly decays afterwards. When synaptic events occur in quick success they sum up.",
      "attachments": {}
    },
    {
      "metadata": {
        "trusted": true
      },
      "cell_type": "code",
      "source": "soma_pre = neuron.h.Section(name='soma')\nsoma_pre.L = 40\nsoma_pre.diam = 40\nsoma_pre.insert('hh')\n\niclamp_pre = neuron.h.IClamp(.5, sec=soma_pre)\niclamp_pre.amp = 1.0 # nA\niclamp_pre.delay = 10 # ms\niclamp_pre.dur = 50 # ms\n\ntime_pre = neuron.h.Vector()\nvoltage_pre = neuron.h.Vector()\n\ntime_pre.record(neuron.h._ref_t)\nvoltage_pre.record(soma_pre(.5)._ref_v);\n\nexpsyn.tau = .9\nnetcon_pre = neuron.h.NetCon(soma_pre(.5)._ref_v, expsyn, sec=soma_pre)\nnetcon_pre.weight[0] = 1\n\nif 'netstim' in locals():\n    del netstim\nif 'netcon' in locals():\n    del netcon\n\nneuron.h.run()\n\ntime_py = time.to_python()\nvoltage_py = voltage.to_python()\n\nplot_tv(time_pre, voltage_pre, show=False, label='presynaptic')\nplot_tv(time, voltage, show=False, label='postsynaptic')\nplt.legend()\nplt.show()\n\ndel netcon_pre",
      "execution_count": null,
      "outputs": []
    },
    {
      "metadata": {},
      "cell_type": "markdown",
      "source": "![graph](https://i.gyazo.com/18e8eb69e4d568bafaab5841cd175a24.png)",
      "attachments": {}
    },
    {
      "metadata": {
        "trusted": true
      },
      "cell_type": "code",
      "source": "#model synapse using Exp2Syn\n\nimport neuron\nfrom neuron import h\nimport numpy\nimport matplotlib.pyplot as plt\n# Load external files & initialize\nneuron.h.load_file(\"stdrun.hoc\");\nneuron.h.stdinit();",
      "execution_count": null,
      "outputs": []
    },
    {
      "metadata": {
        "trusted": true
      },
      "cell_type": "code",
      "source": "soma = neuron.h.Section()\nsoma.L = 40\nsoma.diam = 40\nsoma.insert('pas')\n\nfor sec in h.allsec():\n    sec.Ra = 100\n    sec.cm = 1",
      "execution_count": null,
      "outputs": []
    },
    {
      "metadata": {
        "trusted": true
      },
      "cell_type": "code",
      "source": "#create a double exponential synapse\n#rise time τ = 1\n#decay time τ = 2\n\nsynapse = h.Exp2Syn(soma(0.5))\nsynapse.tau1 = 0.5 # [ms]\nsynapse.tau2 = 10.0 # [ms]\nsynapse.e = -80.0 ",
      "execution_count": null,
      "outputs": []
    },
    {
      "metadata": {
        "trusted": true
      },
      "cell_type": "code",
      "source": "#define the stimulus = 8 spikes at 20Hz + 1 spike 500ms later\n\nstimulator = h.VecStim()\nspike_times = [100.0, 150.0, 200.0, 250.0, 300.0, 350.0, 400.0, 450.0, 950.0]\nspikes_vector = h.Vector(spike_times)\nstimulator.play(spikes_vector)\n\nconnection = h.NetCon(stimulator, synapse)\nconnection.weight[0] = 0.001        # [uS]",
      "execution_count": null,
      "outputs": []
    },
    {
      "metadata": {
        "trusted": true
      },
      "cell_type": "code",
      "source": "#Create a recorder for the synaptic conductance, current, the soma voltage, and the time intervals\n\ng_syn = h.Vector()\ng_syn.record(synapse._ref_g)\ni_syn = h.Vector()\ni_syn.record(synapse._ref_i)\nv_soma = h.Vector()\nv_soma.record(soma(0.5)._ref_v)\ntime = h.Vector()\ntime.record(neuron.h._ref_t)",
      "execution_count": null,
      "outputs": []
    },
    {
      "metadata": {
        "trusted": true
      },
      "cell_type": "code",
      "source": "h.tstop = 1000.0 \nneuron.h.run()",
      "execution_count": null,
      "outputs": []
    },
    {
      "metadata": {
        "trusted": true
      },
      "cell_type": "code",
      "source": "%matplotlib notebook\n\ndef plot_timecourse(time_array, dependent_var, newfigure=True, show=True, label=None, ylabel='Membrane voltage (mV)', constants=[]):\n    \"\"\"Convenience function to plot time courses of dependent variables\"\"\"\n    if newfigure:\n        plt.figure()\n    plt.plot(time_array, dependent_var, label=label)\n    for constant in constants:\n        plt.plot(time_array, constant*numpy.ones(len(time_array)))\n    plt.xlabel('Time (ms)')\n    plt.ylabel(ylabel)\n    if show:\n        plt.show()",
      "execution_count": null,
      "outputs": []
    },
    {
      "metadata": {
        "trusted": true
      },
      "cell_type": "code",
      "source": "def dual_exp(t, tau_r, tau_d, t_start):\n    \"\"\"Compute the dual exponential time course using the closed form expression.\"\"\"\n    t = numpy.array(t)\n    time_to_peak = (tau_r*tau_d)/(tau_d-tau_r)*numpy.log(tau_d/tau_r)\n    factor = -numpy.exp(-time_to_peak/tau_r)+numpy.exp(-time_to_peak/tau_d)\n    f_dual_exp = lambda t: (numpy.exp(-t/tau_d) - numpy.exp(-t/tau_r))/factor\n    dual_exp = numpy.zeros_like(t)\n    dual_exp[t>=t_start] = f_dual_exp(t[t>=t_start]-t_start)\n    return dual_exp\n\n\nplot_timecourse(time, g_syn, ylabel=\"Conductance (uS)\", label=\"NEURON\")\n\nplt.plot(time, connection.weight[0]*dual_exp(time, synapse.tau1, synapse.tau2, \n                                                   t_start=100.0+connection.delay), 'r--', lw=2, label=\"math. expr.\")\nplt.legend()",
      "execution_count": null,
      "outputs": []
    },
    {
      "metadata": {
        "trusted": true
      },
      "cell_type": "code",
      "source": "#plot the voltage for the synaptic conductance events\n\nplot_timecourse(time, v_soma)",
      "execution_count": null,
      "outputs": []
    },
    {
      "metadata": {},
      "cell_type": "markdown",
      "source": "![graph](https://i.gyazo.com/e6f541f7b3c1f3b17a50733544514ac5.png)",
      "attachments": {}
    },
    {
      "metadata": {},
      "cell_type": "markdown",
      "source": "# The AMPA-NMDA Synapse Model\n\nDownload MOD files and compile them with NMODL"
    },
    {
      "metadata": {
        "trusted": true
      },
      "cell_type": "code",
      "source": "import neuron\nfrom neuron import h\nimport numpy\nimport matplotlib.pyplot as plt\n# Load external files & initialize\nneuron.h.load_file(\"stdrun.hoc\");\nneuron.h.stdinit();\n\nsoma = neuron.h.Section()\nsoma.L = 40\nsoma.diam = 40\nsoma.insert('pas')\n\nfor sec in h.allsec():\n    sec.Ra = 100\n    sec.cm = 1",
      "execution_count": null,
      "outputs": []
    },
    {
      "metadata": {
        "trusted": true
      },
      "cell_type": "code",
      "source": "synapse = h.SimpleAMPA_NMDA(soma(0.5))\n\nstimulator = h.VecStim()\nspike_times = [100.0, 150.0, 200.0, 250.0, 300.0, 350.0, 400.0, 450.0, 950.0]\nspikes_vector = h.Vector(spike_times)\nstimulator.play(spikes_vector)\n\nconnection = h.NetCon(stimulator, synapse)\nconnection.weight[0] = 1.0\n\ng_syn = h.Vector()\ng_syn.record(synapse._ref_g)\ni_syn = h.Vector()\ni_syn.record(synapse._ref_i)\nv_soma = h.Vector()\nv_soma.record(soma(0.5)._ref_v)\ntime = h.Vector()\ntime.record(neuron.h._ref_t)",
      "execution_count": null,
      "outputs": []
    },
    {
      "metadata": {
        "trusted": true
      },
      "cell_type": "code",
      "source": "#zero the NMDA conductance \n\nh.tstop = 1000.0 # ms\nsynapse.gmax_NMDA = 0.0\nsynapse.gmax_AMPA = 0.001 # uS\nneuron.h.run()",
      "execution_count": null,
      "outputs": []
    },
    {
      "metadata": {
        "trusted": true
      },
      "cell_type": "code",
      "source": "%matplotlib notebook\n\ndef plot_timecourse(time_array, dependent_var, newfigure=True, show=True, label=None, ylabel='Membrane voltage (mV)', constants=[]):\n    \"\"\"Convenience function to plot time courses of dependent variables\"\"\"\n    if newfigure:\n        plt.figure()\n    plt.plot(time_array, dependent_var, label=label)\n    for constant in constants:\n        plt.plot(time_array, constant*numpy.ones(len(time_array)))\n    plt.xlabel('Time (ms)')\n    plt.ylabel(ylabel)\n    if show:\n        plt.show()\n        \nplot_timecourse(time, v_soma)",
      "execution_count": null,
      "outputs": []
    },
    {
      "metadata": {},
      "cell_type": "markdown",
      "source": "![graph](https://i.gyazo.com/fcf3d79469ef966aa5fe744ecdf1336e.png)",
      "attachments": {}
    },
    {
      "metadata": {
        "trusted": true
      },
      "cell_type": "code",
      "source": "plot_timecourse(time, g_syn, ylabel=\"Conductance (uS)\", label=\"NEURON\")\n\ndef dual_exp(t, tau_r, tau_d, t_start):\n    \"\"\"Compute the dual exponential time course using the closed form expression.\"\"\"\n    t = numpy.array(t)\n    time_to_peak = (tau_r*tau_d)/(tau_d-tau_r)*numpy.log(tau_d/tau_r)\n    factor = -numpy.exp(-time_to_peak/tau_r)+numpy.exp(-time_to_peak/tau_d)\n    f_dual_exp = lambda t: (numpy.exp(-t/tau_d) - numpy.exp(-t/tau_r))/factor\n    dual_exp = numpy.zeros_like(t)\n    dual_exp[t>=t_start] = f_dual_exp(t[t>=t_start]-t_start)\n    return dual_exp\n    \nplt.plot(time, 0.001*connection.weight[0]*dual_exp(time, synapse.tau_r_AMPA, synapse.tau_d_AMPA, \n                                                   t_start=100.0+connection.delay), 'r--', lw=2, label=\"math. expr.\")\nplt.legend()",
      "execution_count": null,
      "outputs": []
    },
    {
      "metadata": {},
      "cell_type": "markdown",
      "source": "![graph](https://i.gyazo.com/7ab721bef33098e06c51c42b7a4954ac.png)",
      "attachments": {}
    },
    {
      "metadata": {
        "trusted": true
      },
      "cell_type": "code",
      "source": "#remove Mg block by zeroing the Mg concentration\n\nsynapse.gmax_NMDA = 0.001 # uS\nsynapse.mg = 0.0 # mM\nsynapse.gmax_AMPA = 0 # uS\nneuron.h.run()",
      "execution_count": null,
      "outputs": []
    },
    {
      "metadata": {
        "trusted": true
      },
      "cell_type": "code",
      "source": "plot_timecourse(time, g_syn, ylabel=\"Conductance (uS)\", label=\"NEURON\")\nplt.plot(time, 0.001*connection.weight[0]*dual_exp(time, synapse.tau_r_NMDA, synapse.tau_d_NMDA, \n                                                   t_start=100.0+connection.delay), 'r--', lw=2, label=\"math. expr.\")\nplt.legend()",
      "execution_count": null,
      "outputs": []
    },
    {
      "metadata": {},
      "cell_type": "markdown",
      "source": "![graph](https://i.gyazo.com/d0f949f1a73edb7bfc06458a95819160.png)",
      "attachments": {}
    },
    {
      "metadata": {
        "trusted": true
      },
      "cell_type": "code",
      "source": "synapse.gmax_AMPA = 0.001 # uS\nsynapse.gmax_NMDA = 0.7 * 0.001 # uS - 0.7 is a biologically typical ratio of NMDA to AMPA conductance\nsynapse.mg = 1.0 # mM\ng_NMDA = h.Vector()\ng_NMDA.record(synapse._ref_g_NMDA)\ng_AMPA = h.Vector()\ng_AMPA.record(synapse._ref_g_AMPA)\nneuron.h.run()",
      "execution_count": null,
      "outputs": []
    },
    {
      "metadata": {
        "trusted": true
      },
      "cell_type": "code",
      "source": "plot_timecourse(time, g_syn, ylabel=\"Conductance (uS)\", label=\"NEURON - g\")\nplot_timecourse(time, g_NMDA, ylabel=\"Conductance (uS)\", label=\"NEURON - g_NMDA\", newfigure=False)\nplot_timecourse(time, g_AMPA, ylabel=\"Conductance (uS)\", label=\"NEURON - g_AMPA\", newfigure=False)\nplt.axis([80.0, 150.0, 0.0, 0.0011])\nplt.legend()",
      "execution_count": null,
      "outputs": []
    },
    {
      "metadata": {},
      "cell_type": "markdown",
      "source": "![graph](https://i.gyazo.com/1ae71311282729068d44fa5c68793e96.png)",
      "attachments": {}
    },
    {
      "metadata": {
        "trusted": true
      },
      "cell_type": "code",
      "source": "#dependence of NMDA conductance on Magnesium concentration\n\ng_NMDA_1mM = numpy.zeros_like(g_NMDA)\ng_NMDA_1mM[:] = g_NMDA\n\nplot_timecourse(time, g_NMDA_1mM, ylabel=\"Conductance (uS)\", label=\"[Mg2+] = 1mM\")\nmgs = [0.5, 0.25, 0.1, 0.0]\nfor mg in mgs:\n    synapse.mg = mg\n    neuron.h.run()\n    plot_timecourse(time, g_NMDA, ylabel=\"Conductance (uS)\", label=\"[Mg2+] = %fmM\" % mg, newfigure=False)\nplt.axis([80.0, 150.0, 0.0, 0.0011])\nplt.legend()",
      "execution_count": null,
      "outputs": []
    },
    {
      "metadata": {},
      "cell_type": "markdown",
      "source": "![graph](https://i.gyazo.com/10398fa836ec68a13948838cea14edc3.png)\n\nNMDA receptor requires the presence of Mg2+ for the voltage block to be effective",
      "attachments": {}
    },
    {
      "metadata": {},
      "cell_type": "markdown",
      "source": "### Voltage block curve\n\nNMDA for [Mg2+]=1.0"
    },
    {
      "metadata": {
        "trusted": true
      },
      "cell_type": "code",
      "source": "#block the AMPA component of the conductance \n\nsynapse.mg = 1.0\nsynapse.gmax_AMPA",
      "execution_count": null,
      "outputs": []
    },
    {
      "metadata": {
        "trusted": true
      },
      "cell_type": "code",
      "source": "#voltage clamp the soma at a given holding voltage\n\nvoltage_clamp = h.VClamp(0.5, sec=soma) \nvoltage_clamp.amp[0] = -80.0 \nvoltage_clamp.dur[0] = h.tstop",
      "execution_count": null,
      "outputs": []
    },
    {
      "metadata": {
        "trusted": true
      },
      "cell_type": "code",
      "source": "def extract_peaks(time, trace, event_times, window=10):\n    \"\"\"\n    Computes the peak between event_times and returns the times of occurence and the maximums\n    Useful for finding PSP or conductance peaks due to synaptic events.\n    kwarg 'window' defines the time in ms after the event to consider when searching for the peak\n    \"\"\"\n    \n    peaks_list = []\n    peaks_times_list = []\n    for event_time in event_times:\n        i_start = time.searchsorted(event_time)\n        i_end = time.searchsorted(event_time+window)\n        # find the index where the max occurs\n        i_max = numpy.argmax(trace[i_start:i_end])\n        # append the time and value at the max to the respective lists\n        peaks_times_list.append(time[i_start:i_end][i_max])\n        peaks_list.append(trace[i_start:i_end][i_max])\n        \n    return numpy.array(peaks_times_list), numpy.array(peaks_list)",
      "execution_count": null,
      "outputs": []
    },
    {
      "metadata": {
        "trusted": true
      },
      "cell_type": "code",
      "source": "def gNMDApeak_for_vclamp(v_clamp, eventNth=0):\n    \"\"\"returns the peak g_NMDA of the \"eventNth\" synaptic event for a given holding voltage\"\"\"\n    voltage_clamp.amp[0] = v_clamp # Assign the clamping voltage\n    neuron.h.run() # Simulate!\n    g_NMDA = numpy.array(g_syn) # Get the resulting conductance as a numpy array (its only NMDA: AMPA is blocked) \n    time_arr = numpy.array(time) # Convert time h.Vector to a numpy array for subsequent operations\n    peak_times, peaks = extract_peaks(time_arr, numpy.array(g_NMDA), spike_times) # extract the peaks and times\n    peak_times_idx = time_arr.searchsorted(peak_times) # find array index of peak times \n    return peaks[eventNth] # return the peak conductance of the eventNth peak",
      "execution_count": null,
      "outputs": []
    },
    {
      "metadata": {
        "trusted": true
      },
      "cell_type": "code",
      "source": "synapse = h.TsodyksMarkram_AMPA_NMDA(soma(0.5))\n\nsynapse.gmax_AMPA = 0.001\nsynapse.gmax_NMDA = 0.7 * 0.001 \nsynapse.mg = 1.0 ",
      "execution_count": null,
      "outputs": []
    },
    {
      "metadata": {
        "trusted": true
      },
      "cell_type": "code",
      "source": "synapse.U1 = 0.2 # Baseline release probability\nsynapse.tau_rec = 200 # ms - recovery from depression\nsynapse.tau_facil = 200 # ms - relaxation from facilitation\n\nh.tstop = 1000.0 # ms\nneuron.h.run()",
      "execution_count": null,
      "outputs": []
    },
    {
      "metadata": {
        "trusted": true
      },
      "cell_type": "code",
      "source": "%matplotlib notebook\n\ndef plot_timecourse(time_array, dependent_var, newfigure=True, show=True, label=None, ylabel='Membrane voltage (mV)', constants=[]):\n    \"\"\"Convenience function to plot time courses of dependent variables\"\"\"\n    if newfigure:\n        plt.figure()\n    plt.plot(time_array, dependent_var, label=label)\n    for constant in constants:\n        plt.plot(time_array, constant*numpy.ones(len(time_array)))\n    plt.xlabel('Time (ms)')\n    plt.ylabel(ylabel)\n    if show:\n        plt.show()\n        \nplot_timecourse(time, v_soma)\nplt.axis([0, 1000, -70, -69.5])",
      "execution_count": null,
      "outputs": []
    },
    {
      "metadata": {},
      "cell_type": "markdown",
      "source": "![graph](https://i.gyazo.com/406cf544d17af0114242b0bad60fee4d.png)",
      "attachments": {}
    },
    {
      "metadata": {
        "trusted": true
      },
      "cell_type": "code",
      "source": "plot_timecourse(time, R_syn, ylabel=\"\", label=\"$R$ - frac. of pool avail.\")\nplot_timecourse(time, Use_syn, ylabel=\"\", label=\"$U_{SE}$ - running rel. prob.\", newfigure=False)\nplt.legend()\nplt.axis([0,1000,0,1.5])\nplot_timecourse(time, g_syn, ylabel=\"Conductance (uS)\", label=\"$g_{syn}$\")\nplt.legend()",
      "execution_count": null,
      "outputs": []
    },
    {
      "metadata": {},
      "cell_type": "markdown",
      "source": "![graphs](https://i.gyazo.com/4e0caa82ed907ed356049ac75ba49183.png)",
      "attachments": {}
    },
    {
      "metadata": {
        "trusted": true
      },
      "cell_type": "code",
      "source": "",
      "execution_count": null,
      "outputs": []
    }
  ],
  "metadata": {
    "kernelspec": {
      "name": "python3",
      "display_name": "Python 3",
      "language": "python"
    },
    "language_info": {
      "mimetype": "text/x-python",
      "nbconvert_exporter": "python",
      "name": "python",
      "pygments_lexer": "ipython3",
      "version": "3.5.4",
      "file_extension": ".py",
      "codemirror_mode": {
        "version": 3,
        "name": "ipython"
      }
    }
  },
  "nbformat": 4,
  "nbformat_minor": 2
}